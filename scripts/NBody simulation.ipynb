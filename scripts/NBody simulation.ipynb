{
 "metadata": {
  "name": ""
 },
 "nbformat": 3,
 "nbformat_minor": 0,
 "worksheets": [
  {
   "cells": [
    {
     "cell_type": "markdown",
     "metadata": {},
     "source": [
      "Gravitational instability\n",
      "===\n",
      "\n",
      "The equations that gouvern the distribution of matter in the Universe are given by Newtons law for gravity. We assume gravity is the sole force responsible for forming strunctures in the Universe and that relativistic effects play a minor role. Moreover we will assume that this process is dominated by _dark matter_. The Newtonian field equation for gravity is the Poisson equation\n",
      "\n",
      "$$\\nabla^2 \\Phi = 4 \\pi G \\rho.$$\n",
      "\n",
      "However, in an expanding Universe this equation changes slightly to\n",
      "\n",
      "$$\\frac{1}{a^2} \\nabla^2 \\phi = 4 \\pi G \\rho_u \\delta.$$\n",
      "\n",
      "Here $a$ is the Hubble expansion factor, $\\delta$ the density perturbation\n",
      "\n",
      "$$\\delta + 1 = \\frac{\\rho}{\\rho_u},$$\n",
      "\n",
      "and $\\phi$ is the potential perturbation. Similarly the Euler equation describing Newton's second law can be written in Lagrangian form as\n",
      "\n",
      "$$\\partial_t(a \\vec{v}) \\big|_{q={\\rm cst}} = -\\nabla \\phi.$$\n",
      "\n",
      "Defining $v$ as the comoving velocity $v := a\\dot{x}$. We have two sets of coordinates $q$ and $x$. $q$ being a label on a particle, telling it where it started at time $t = 0$.\n",
      "Then\n",
      "\n",
      "$$x = q + \\int \\frac{v}{a} {\\rm d t}.$$\n",
      "\n",
      "We define a momentum $p := a^2 \\dot{x} = a v$, and rewrite the factor of proportionality\n",
      "\n",
      "$$4 \\pi G \\rho_u = \\frac{3H_0^2 \\Omega_0}{2a^3},$$\n",
      "\n",
      "so that the Poisson equation becomes\n",
      "\n",
      "$$a\\nabla^2 \\phi = \\frac{3}{2} \\Omega_m H_0^2 \\delta,$$\n",
      "\n",
      "and the Euler equation\n",
      "\n",
      "$$\\dot{p} = - \\nabla \\phi.$$\n",
      "\n",
      "To this we add the Friedman equation that describes the evolution of the expansion factor\n",
      "\n",
      "$$\\dot{a} = H_0 a \\sqrt{\\Omega_{\\Lambda} + \\Omega_{m} a^{-3} + (1 - \\Omega) a^{-2}}.$$\n",
      "\n",
      "Note that all time dependence in these equations is in the expansion factor $a(t)$, so we may express all time derivatives in terms of $a$.\n",
      "\n",
      "$$\\dot{x} = \\frac{p}{a^2}\\quad \\to \\quad \\partial_a x = \\frac{p}{a^2 \\dot{a}}$$\n",
      "$$\\dot{p} = -\\nabla \\phi \\quad \\to \\quad \\partial_a p = - \\frac{\\nabla \\phi}{\\dot{a}}$$\n",
      "\n",
      "This means we do not need to solve the Friedman equation explicitly. Rather we use $a$ as integration variable and use the Friedman equation to determine the relevant derivative $\\dot{a}$."
     ]
    },
    {
     "cell_type": "markdown",
     "metadata": {},
     "source": [
      "Initial conditions\n",
      "===\n",
      "\n",
      "To make interesting initial conditions, I take a power spectrum of $P(k) = k^{-1/2}$ with a Gaussian smoothing."
     ]
    },
    {
     "cell_type": "code",
     "collapsed": false,
     "input": [
      "import cft\n",
      "import numpy as np\n",
      "from numpy import fft, random\n",
      "import gnuplot as gp\n",
      "import os\n",
      "\n",
      "N = 128\n",
      "B_m = cft.Box(2, N, 50.0)\n",
      "A = 40\n",
      "seed = 6\n",
      "Power_spectrum = cft.Power_law(0) * cft.Scale(B_m, 0.0) * cft.Cutoff(B_m)\n",
      "phi = cft.garfield(B_m, Power_spectrum, cft.Potential(), seed) * A\n",
      "rho = cft.garfield(B_m, Power_spectrum, cft.Scale(B_m, 5.0), seed) * A\n",
      "\n",
      "gp.plot(\"set xrange [0:{0}] ; set yrange [0:{0}]\".format(B_m.N),\n",
      "        gp.plot_data(gp.array(rho.T, 'w image')))\n",
      "\n",
      "rho.std()"
     ],
     "language": "python",
     "metadata": {},
     "outputs": [
      {
       "metadata": {},
       "output_type": "display_data",
       "png": "[encoded data removed]",
       "text": [
        "<IPython.core.display.Image at 0x7fa0f5394e10>"
       ]
      },
      {
       "metadata": {},
       "output_type": "pyout",
       "prompt_number": 120,
       "text": [
        "0.99863657863408606"
       ]
      }
     ],
     "prompt_number": 120
    },
    {
     "cell_type": "markdown",
     "metadata": {},
     "source": [
      "Cosmology\n",
      "===\n",
      "\n",
      "The background cosmology is embodied by the Friedman equation\n",
      "\n",
      "$$\\dot{a} = H_0 a \\sqrt{\\Omega_{\\Lambda} + \\Omega_{m} a^{-3} + (1 - \\Omega) a^{-2}}.$$\n",
      "\n",
      "The class `Cosmology` is a function object returning the value of $\\dot{a}$ as a function of $a$.\n",
      "Later on we will need the _growing mode_ solution for this universe.\n",
      "\n",
      "$$D(t) = H(t) \\int_0^t \\frac{{\\rm d} t'}{a(t')^2 H(t')^2}$$\n",
      "\n",
      "We'd like to do the integration in terms of $a$, substituting ${\\rm d}t = {\\rm d}a/\\dot{a}$.\n",
      "\n",
      "$$D(a) = \\frac{\\dot{a}}{a} \\int_0^a \\frac{{\\rm d}a}{\\dot{a}^3}$$"
     ]
    },
    {
     "cell_type": "code",
     "collapsed": false,
     "input": [
      "from scipy.integrate import quad\n",
      "\n",
      "class Cosmology:\n",
      "    \"\"\"This object stores all relevant information wrt the background\n",
      "    cosmology, parametrized by OmegaM, OmegaL and H0.\"\"\"\n",
      "    def __init__(self, H0, OmegaM, OmegaL):\n",
      "        self.H0 = H0\n",
      "        self.OmegaM = OmegaM\n",
      "        self.OmegaL = OmegaL\n",
      "        self.OmegaK = 1 - OmegaM - OmegaL\n",
      "        self.grav_cst = 3./2 * OmegaM * H0**2\n",
      "        self.factor = self._growing_mode_norm()\n",
      "\n",
      "    def adot(self, a):\n",
      "        return self.H0 * a * np.sqrt(self.OmegaL \\\n",
      "                + self.OmegaM * a**-3 \\\n",
      "                + self.OmegaK * a**-2)\n",
      "    \n",
      "    def _growing_mode_norm(self):\n",
      "        \"\"\"result D(1) = 1. d/d0 + 0.001 = 1\"\"\"\n",
      "        d = self.adot(1) * quad(lambda b: self.adot(b)**(-3), 0.00001, 1)[0]\n",
      "        return 0.99999/d\n",
      "\n",
      "    def growing_mode(self, a):\n",
      "        if isinstance(a, np.ndarray):\n",
      "            return np.array([self.growing_mode(b) for b in a])\n",
      "        elif a <= 0.001:\n",
      "            return a\n",
      "        else:\n",
      "            return self.factor * self.adot(a)/a * quad(lambda b: self.adot(b)**(-3), 0.00001, a)[0] + 0.00001\n",
      "    \n",
      "    def __call__(self, a):\n",
      "        return self.adot(a)\n",
      "\n",
      "LCDM = Cosmology(68.0, 0.31, 0.69)\n",
      "EdS = Cosmology(70.0, 1.0, 0.0)"
     ],
     "language": "python",
     "metadata": {},
     "outputs": [],
     "prompt_number": 27
    },
    {
     "cell_type": "markdown",
     "metadata": {},
     "source": [
      "This approach only works if the Universe keeps expanding."
     ]
    },
    {
     "cell_type": "markdown",
     "metadata": {},
     "source": [
      "Mass deposition\n",
      "===\n",
      "\n",
      "Proper mass depositions is somewhat of a dark art. The simplest scheme that is widely used goes by the name of _cloud-in-cell_.\n",
      "A particle is seen as a clump of matter, the size of a pixel (the cloud). This matter is then divided over four neighbouring pixels by taking\n",
      "the fractional position within the current pixel (the cell). This can be implemented using the NumPy `histogram2d` function with `weight`."
     ]
    },
    {
     "cell_type": "code",
     "collapsed": false,
     "input": [
      "def md_cic(B, X):\n",
      "    f  = X - np.floor(X)\n",
      "    \n",
      "    rho = np.zeros(B.shape, dtype='float64')\n",
      "    rho_, x_, y_ = np.histogram2d(X[:,0]%B.N, X[:,1]%B.N, bins=B.shape, \n",
      "                        range=[[0, B.N], [0, B.N]], \n",
      "                        weights=(1 - f[:,0])*(1 - f[:,1]))\n",
      "    rho += rho_\n",
      "    rho_, x_, y_ = np.histogram2d((X[:,0]+1)%B.N, X[:,1]%B.N, bins=B.shape, \n",
      "                        range=[[0, B.N], [0, B.N]], \n",
      "                        weights=(f[:,0])*(1 - f[:,1]))\n",
      "    rho += rho_\n",
      "    rho_, x_, y_ = np.histogram2d(X[:,0]%B.N, (X[:,1]+1)%B.N, bins=B.shape, \n",
      "                        range=[[0, B.N], [0, B.N]], \n",
      "                        weights=(1 - f[:,0])*(f[:,1]))\n",
      "    rho += rho_\n",
      "    rho_, x_, y_ = np.histogram2d((X[:,0]+1)%B.N, (X[:,1]+1)%B.N, bins=B.shape, \n",
      "                        range=[[0, B.N], [0, B.N]], \n",
      "                        weights=(f[:,0])*(f[:,1]))\n",
      "    rho += rho_\n",
      "    \n",
      "    return rho"
     ],
     "language": "python",
     "metadata": {},
     "outputs": [],
     "prompt_number": 28
    },
    {
     "cell_type": "markdown",
     "metadata": {},
     "source": [
      "Integators\n",
      "===\n",
      "As integrators go, the _leap-frog_ method is both simple and reasonably accurate. It has the nice property that the integration is reversible. In the lore of symplectic integrators this means that energy is conserved."
     ]
    },
    {
     "cell_type": "code",
     "collapsed": false,
     "input": [
      "class Integrator:\n",
      "    def run(self, a0, da, N):\n",
      "        raise NotImplented\n",
      "\n",
      "class LeapFrog(Integrator):\n",
      "    def __init__(self, solver):\n",
      "        self.solver = solver\n",
      "        \n",
      "    def run(self, a0, da, N):\n",
      "        a = a0\n",
      "        \n",
      "        # the kick is half a step ahead\n",
      "        S = self.solver(a, a + da/2)\n",
      "        for i in range(N):\n",
      "            S.drift(a, da)\n",
      "            S.kick(a+da/2, da)\n",
      "            a += da\n",
      "            \n",
      "        return S"
     ],
     "language": "python",
     "metadata": {},
     "outputs": [],
     "prompt_number": 29
    },
    {
     "cell_type": "code",
     "collapsed": false,
     "input": [
      "class Interp2D:\n",
      "    \"Reasonably fast bilinear interpolation routine\"\n",
      "    def __init__(self, data):\n",
      "        self.data = data\n",
      "        self.shape = data.shape\n",
      "\n",
      "    def __call__(self, x):\n",
      "        X1 = np.floor(x).astype(int) % self.shape\n",
      "        X2 = np.ceil(x).astype(int) % self.shape\n",
      "        xm = x % 1.0\n",
      "        xn = 1.0 - xm\n",
      "\n",
      "        f1 = self.data[X1[:,0], X1[:,1]]\n",
      "        f2 = self.data[X2[:,0], X1[:,1]]\n",
      "        f3 = self.data[X1[:,0], X2[:,1]]\n",
      "        f4 = self.data[X2[:,0], X2[:,1]]\n",
      "\n",
      "        return  f1 * xn[:,0] * xn[:,1] + \\\n",
      "                f2 * xm[:,0] * xn[:,1] + \\\n",
      "                f3 * xn[:,0] * xm[:,1] + \\\n",
      "                f4 * xm[:,0] * xm[:,1]\n",
      "\n",
      "def gradient_2nd_order(F, i):\n",
      "\treturn   1./12 * np.roll(F,  2, axis=i) - 2./3  * np.roll(F,  1, axis=i) \\\n",
      "\t\t\t+ 2./3  * np.roll(F, -1, axis=i) - 1./12 * np.roll(F, -2, axis=i)"
     ],
     "language": "python",
     "metadata": {},
     "outputs": [],
     "prompt_number": 30
    },
    {
     "cell_type": "markdown",
     "metadata": {},
     "source": [
      "Gravity\n",
      "===\n",
      "\n",
      "Gravity is a three-dimensional phenomenon. We take a leap of faith that we may use the same equations in 2D and the results will be similar to a slice from a 3D simulation. To do this properly, we would need to proof that this is identical to simulating an inifinite stack of copies of the 2D universe. The force should go as $1/r$ and the corresponding potential as $\\log(r)$.\n",
      "\n",
      "The previously described Leap-frog integrator needs a solver class to provide it with a _drift_ and _kick_ operator. The drift is simply translating the particles by the appropriate amount following $\\partial_a x = p/(a^2 \\dot{a})$. The kick is a bit more complicated. It needs to find the gravitational potential that each particle feels to get the proper acceleration. To this end we first compute $\\delta$, by using the CIC mass deposition. Then we use Fourier space to compute the appropriate potential. The gradient of this potential is evaluated in real space using a second order scheme, and linear interpolation to get approximate values at the particle positions."
     ]
    },
    {
     "cell_type": "code",
     "collapsed": false,
     "input": [
      "def a2r(B, X):\n",
      "    return X.transpose([1,2,0]).reshape([B.N**2, 2])\n",
      "\n",
      "def r2a(B, x):\n",
      "    return x.reshape([B.N, B.N, 2]).transpose([2,0,1])\n",
      "\n",
      "class Solver:\n",
      "    def __init__(self, B, m, C, X, P):\n",
      "        self.B = B\n",
      "        self.C = C\n",
      "        self.X = X\n",
      "        self.P = P\n",
      "        self.m = m\n",
      "        \n",
      "        self.g = gp.Gnuplot(persist=True)\n",
      "        self.g(\"set cbrange [0.2:50]\", \"set log cb\", \"set size square\",\n",
      "               \"set xrange [0:{0}] ; set yrange [0:{0}]\".format(B.N))\n",
      "        \n",
      "    def drift(self, a, da):\n",
      "        adot = self.C(a)\n",
      "        self.X += da * self.P / (a**2 * adot)\n",
      "        \n",
      "    def kick(self, a, da):\n",
      "        adot  = self.C(a)\n",
      "        x = self.X/self.B.res\n",
      "        delta = md_cic(self.B, x) * self.m - 1.0\n",
      "        self.g(gp.plot_data(gp.array(delta.T+1, \"t'' w image\")))\n",
      "        fn = 'data/x.{0:05d}.npy'.format(int(round(a*1000)))\n",
      "        np.save(fn, self.X)\n",
      "        \n",
      "        phi   = fft.ifftn(fft.fftn(delta) * cft.Potential()(self.B.K)).real * self.C.grav_cst / a\n",
      "        \n",
      "        acc_x = Interp2D(gradient_2nd_order(phi, 0))\n",
      "        acc_y = Interp2D(gradient_2nd_order(phi, 1))\n",
      "        acc = np.c_[acc_x(x), acc_y(x)] / self.B.res\n",
      "        \n",
      "        self.P -= da * acc / adot"
     ],
     "language": "python",
     "metadata": {},
     "outputs": [],
     "prompt_number": 102
    },
    {
     "cell_type": "markdown",
     "metadata": {},
     "source": [
      "To create good initial conditions from the initial potential we have to use Zeldovich approximation. At the same time we may use this class as a factory for setting up the rest of the simulation; this means providing the solver with proper box sizes and cosmology. The Leap-frog integrator needs the velocity at a different time than the particle positions (half a time-step difference). So the `Zeldovich` class provides functionality to do just that. In the particle velocity there's no difference, but the momentum does factor in the expansion factor.\n",
      "\n",
      "The `Zeldovich` class takes two box arguments. One is the _mass box_, the other the _force box_. To prevent aliasing in the voids it is important to have the force box twice the size of the mass box."
     ]
    },
    {
     "cell_type": "code",
     "collapsed": false,
     "input": [
      "class Zeldovich:\n",
      "    def __init__(self, B_mass, B_force, C, phi):\n",
      "        self.bm = B_mass\n",
      "        self.bf = B_force\n",
      "        self.C  = C\n",
      "        \n",
      "        self.u = np.array([-gradient_2nd_order(phi, 0), \n",
      "                           -gradient_2nd_order(phi, 1)]) / self.bm.res\n",
      "        \n",
      "    def __call__(self, a_pos, a_vel = None):\n",
      "        if a_vel == None: \n",
      "            a_vel = a_pos\n",
      "        \n",
      "        X = a2r(self.bm, np.indices(self.bm.shape) * self.bm.res + a_pos * self.u)\n",
      "        P = a2r(self.bm, a_vel * self.u)\n",
      "        \n",
      "        # particle mass\n",
      "        m = (self.bf.N / self.bm.N)**self.bm.dim\n",
      "        \n",
      "        return Solver(self.bf, m, self.C, X, P)"
     ],
     "language": "python",
     "metadata": {},
     "outputs": [],
     "prompt_number": 32
    },
    {
     "cell_type": "markdown",
     "metadata": {},
     "source": [
      "Running the code\n",
      "===="
     ]
    },
    {
     "cell_type": "code",
     "collapsed": false,
     "input": [
      "import gnuplot as gp\n",
      "za = Zeldovich(B_m, cft.Box(2, N*2, B_m.L), EdS, phi)\n",
      "S = LeapFrog(za).run(0.02, 0.02, 50)"
     ],
     "language": "python",
     "metadata": {},
     "outputs": [],
     "prompt_number": 125
    },
    {
     "cell_type": "code",
     "collapsed": false,
     "input": [
      "from thulsa import write_conan\n",
      "phi = cft.garfield(B_m, Power_spectrum, cft.Potential(), seed) * A\n",
      "rho = cft.garfield(B_m, Power_spectrum, cft.Identity(), seed) * A\n",
      "f = open('a.density.init.conan', 'wb')\n",
      "write_conan(f, B_m, {\"density\": rho.T, \"potential\": phi.T})\n",
      "f.close()"
     ],
     "language": "python",
     "metadata": {},
     "outputs": [],
     "prompt_number": 122
    },
    {
     "cell_type": "code",
     "collapsed": false,
     "input": [
      "X = np.load(\"data/x.01010.npy\")\n",
      "gp.plot(\"set size square ; set xrange [0:1] ; set yrange[0:1]\",\n",
      "        gp.plot_data(gp.record(X, \"w dots\")))\n",
      "x = X/S.B.res\n",
      "delta = md_cic(S.B, x) * S.m - 1.0\n",
      "phi   = fft.ifftn(fft.fftn(delta) * cft.Potential()(S.B.K)).real * EdS.grav_cst / 0.03"
     ],
     "language": "python",
     "metadata": {},
     "outputs": [
      {
       "metadata": {},
       "output_type": "display_data",
       "png": "[encoded data removed]",
       "text": [
        "<IPython.core.display.Image at 0x7fa0f5489da0>"
       ]
      }
     ],
     "prompt_number": 98
    },
    {
     "cell_type": "code",
     "collapsed": false,
     "input": [
      "za = Zeldovich(B_m, cft.Box(2, N, B_m.L), EdS, phi)\n",
      "S = za(0.5, 0.7)\n",
      "S.drift(0.5, 0.4)\n",
      "S.kick(0.7, 0.4)\n",
      "print(S.P.std())"
     ],
     "language": "python",
     "metadata": {},
     "outputs": [
      {
       "output_type": "stream",
       "stream": "stdout",
       "text": [
        "0.91689281554\n"
       ]
      }
     ],
     "prompt_number": 112
    },
    {
     "cell_type": "markdown",
     "metadata": {},
     "source": [
      "Plotting density\n",
      "==="
     ]
    },
    {
     "cell_type": "code",
     "collapsed": false,
     "input": [
      "def write_triangles(fn, B, X):\n",
      "    T0 = X.reshape([B.N**2,2])\n",
      "    T1 = np.roll(X, -1, axis=0); T1[-1,:,0] += B.L ; T1 = T1.reshape([B.N**2,2])\n",
      "    T2 = np.roll(X, -1, axis=1); T2[:,-1,1] += B.L ; T2 = T2.reshape([B.N**2,2])\n",
      "    T3 = np.roll(np.roll(X, -1, axis=0), -1, axis=1)\n",
      "    T3[-1,:,0] += B.L ; T3[:,-1,1] += B.L ; T3 = T3.reshape([B.N**2, 2])\n",
      "    \n",
      "    tt1 = np.c_[T0, T1, T2]\n",
      "    tt2 = np.c_[T3, T2, T1]\n",
      "\n",
      "    f = open(fn, 'wb')\n",
      "    f.write(\"{0}\\n\".format(2*len(tt1)).encode())\n",
      "    np.savetxt(f, tt1)\n",
      "    np.savetxt(f, tt2)\n",
      "    f.close()\n",
      "\n",
      "def write_cutout(fn, B, X, x0, y0, N):\n",
      "    xmin = X[y0:y0+N+1,x0:x0+N+1,0].min()\n",
      "    ymin = X[y0:y0+N+1,x0:x0+N+1,1].min()\n",
      "    offset = np.array([xmin, ymin])[np.newaxis,:]\n",
      "    \n",
      "    T0 = X[y0:(y0+N),x0:(x0+N),:].reshape([N**2,2]) - offset\n",
      "    T1 = X[y0:y0+N,x0+1:x0+N+1,:].reshape([N**2,2]) - offset\n",
      "    T2 = X[y0+1:y0+N+1,x0:x0+N,:].reshape([N**2,2]) - offset\n",
      "    T3 = X[y0+1:y0+N+1,x0+1:x0+N+1,:].reshape([N**2,2]) - offset\n",
      "\n",
      "    tt1 = np.c_[T0, T1, T2]\n",
      "    tt2 = np.c_[T3, T2, T1]\n",
      "\n",
      "    f = open(fn, 'wb')\n",
      "    f.write(\"{0}\\n\".format(2*len(tt1)).encode())\n",
      "    np.savetxt(f, tt1)\n",
      "    np.savetxt(f, tt2)\n",
      "    f.close()\n",
      "\n",
      "def write_ppm(fn, d):\n",
      "    _min = 0.003 ; _max = 50\n",
      "    x = (np.log(np.where(d > _max, _max, np.where(d < _min, _min, d))) - np.log(_min)) \\\n",
      "        / (np.log(_max) - np.log(_min))\n",
      "    rcol = 0.237 - 2.13*x + 26.92*x**2 - 65.5*x**3 + 63.5*x**4 - 22.36*x**5\n",
      "    gcol = ((0.572 + 1.524*x - 1.811*x**2)/(1 - 0.291*x + 0.1574*x**2))**2\n",
      "    bcol = 1/(1.579 - 4.03*x + 12.92*x**2 - 31.4*x**3 + 48.6*x**4 - 23.36*x**5)\n",
      "    \n",
      "    f = open(fn, 'wb')\n",
      "    f.write(\"P6 {0} {1} {2}\\n\".format(d.shape[1], d.shape[0], 255).encode())\n",
      "    f.write((np.c_[rcol.flat, gcol.flat, bcol.flat] * 255).astype(\"UInt8\").tostring())\n",
      "    f.close()\n",
      "\n",
      "for a in [\"00110\", \"00210\", \"00310\", \"00410\", \"00510\", \"00610\", \"00710\", \"00810\", \"00910\", \"01010\"]:\n",
      "    X = np.load(\"data/x.{0}.npy\".format(a))\n",
      "    write_triangles(\"data/tmp.{0}.dat\".format(a), B_m, r2a(B_m, X + B_m.L).transpose([1,2,0]))\n",
      "#write_cutout(\"tmp.dat\", B_m, r2a(B_m, S.X + S.B.L).transpose([1,2,0]), 300, 40, 70)"
     ],
     "language": "python",
     "metadata": {},
     "outputs": [],
     "prompt_number": 26
    },
    {
     "cell_type": "code",
     "collapsed": false,
     "input": [
      "for a in [\"00110\", \"00210\", \"00310\", \"00410\", \"00510\", \"00610\", \"00710\", \"00810\", \"00910\", \"01010\"]:\n",
      "    print('.', end='')\n",
      "    os.system(\"cd data ; ../../nerve2/nerve nerve -i rho.{2} -N {0} -L {1} --txt tmp.{2}.dat\".format(N*2, B_m.L, a))\n",
      "    d = np.loadtxt(\"data/rho.{0}.nerve.conan\".format(a))\n",
      "    write_ppm(\"data/rho.{0}.ppm\".format(a), d)\n",
      "print('done')"
     ],
     "language": "python",
     "metadata": {},
     "outputs": [
      {
       "output_type": "stream",
       "stream": "stdout",
       "text": [
        ".."
       ]
      },
      {
       "output_type": "stream",
       "stream": "stdout",
       "text": [
        "."
       ]
      },
      {
       "output_type": "stream",
       "stream": "stdout",
       "text": [
        "."
       ]
      },
      {
       "output_type": "stream",
       "stream": "stdout",
       "text": [
        "."
       ]
      },
      {
       "output_type": "stream",
       "stream": "stdout",
       "text": [
        "."
       ]
      },
      {
       "output_type": "stream",
       "stream": "stdout",
       "text": [
        "."
       ]
      },
      {
       "output_type": "stream",
       "stream": "stdout",
       "text": [
        "."
       ]
      },
      {
       "output_type": "stream",
       "stream": "stdout",
       "text": [
        "."
       ]
      },
      {
       "output_type": "stream",
       "stream": "stdout",
       "text": [
        "."
       ]
      },
      {
       "output_type": "stream",
       "stream": "stdout",
       "text": [
        "done"
       ]
      },
      {
       "output_type": "stream",
       "stream": "stdout",
       "text": [
        "\n"
       ]
      }
     ],
     "prompt_number": 27
    },
    {
     "cell_type": "markdown",
     "metadata": {},
     "source": [
      "Comparison with ZA, projected $A_3$ lines\n",
      "==="
     ]
    },
    {
     "cell_type": "code",
     "collapsed": false,
     "input": [
      "# a=1.01, sigma=1.5, D=0.65\n",
      "# a=0.71, sigma=1.0, D=0.47\n",
      "# a=0.51, sigma=0.7, D=0.31\n",
      "# a=0.31, sigma=0.4, D=0.2\n",
      "# a=0.11, sigma=0.2, D=0.06\n",
      "from thulsa import write_conan\n",
      "\n",
      "pars = [{ 'a': 1.01, 'sigma': 3.5, 'D': 0.65 },\n",
      "        { 'a': 0.71, 'sigma': 2.6, 'D': 0.47 },\n",
      "        { 'a': 0.61, 'sigma': 2.1, 'D': 0.39 },\n",
      "        { 'a': 0.51, 'sigma': 1.8, 'D': 0.33 },\n",
      "        { 'a': 0.31, 'sigma': 1.1, 'D': 0.20 },\n",
      "        { 'a': 0.21, 'sigma': 0.7, 'D': 0.135 },\n",
      "        { 'a': 0.11, 'sigma': 0.12, 'D': 0.064 }]\n",
      "\n",
      "a = [0.11, 0.21, 0.31, 0.41, 0.51, 0.61, 0.71, 0.81, 0.91, 1.01]\n",
      "correction = 0.643\n",
      "\n",
      "for i in range(len(pars)):\n",
      "    p = pars[i]\n",
      "    sigma = p['sigma']\n",
      "    rho = cft.garfield(B_m, Power_spectrum, cft.Scale(B_m, sigma), seed) * A\n",
      "    phi = cft.garfield(B_m, Power_spectrum, cft.Potential() * cft.Scale(B_m, sigma), seed) * A\n",
      "    \n",
      "    f = open('data/dy{0}.density.init.conan'.format(i), 'wb')\n",
      "    write_conan(f, B_m, {\"density\": rho.T, \"potential\": phi.T})\n",
      "    f.close()\n",
      "\n",
      "    os.system(\"cd data ; ../../dmt2d/dmt2d lagrangian -I dy{0} -e -t {1} --truncate\".format(i, p['D']))\n",
      "    #os.system(\"../dmt2d/dmt2d lagrangian -I dy{0} --truncate\".format(i))\n",
      "\n",
      "    std = rho.std()\n",
      "    print(std, p['D'], std*p['D'])"
     ],
     "language": "python",
     "metadata": {},
     "outputs": [
      {
       "output_type": "stream",
       "stream": "stdout",
       "text": [
        "1.74735340549 0.65 1.13577971357\n",
        "2.48803633988"
       ]
      },
      {
       "output_type": "stream",
       "stream": "stdout",
       "text": [
        " 0.47 1.16937707974\n",
        "3.16903937935"
       ]
      },
      {
       "output_type": "stream",
       "stream": "stdout",
       "text": [
        " 0.39 1.23592535795\n",
        "3.75783197197"
       ]
      },
      {
       "output_type": "stream",
       "stream": "stdout",
       "text": [
        " 0.33 1.24008455075\n",
        "6.23373611913"
       ]
      },
      {
       "output_type": "stream",
       "stream": "stdout",
       "text": [
        " 0.2 1.24674722383\n",
        "9.22452081653"
       ]
      },
      {
       "output_type": "stream",
       "stream": "stdout",
       "text": [
        " 0.135 1.24531031023\n",
        "18.9557222283"
       ]
      },
      {
       "output_type": "stream",
       "stream": "stdout",
       "text": [
        " 0.064 1.21316622261\n"
       ]
      }
     ],
     "prompt_number": 32
    },
    {
     "cell_type": "code",
     "collapsed": false,
     "input": [
      "g = gp.Gnuplot()\n",
      "m = gp.Multiplot(3, 3, 2, 3)\n",
      "m.set_margin(0.05,0.05,0.85,0.2)\n",
      "g(      \"set xrange [-{0}:{0}] ; set yrange [-{0}:{0}]\".format(B_m.L/3),        \n",
      "        \"set output 'data/result.pdf'\",\n",
      "        m.set_term('pdf enhanced'),\n",
      "        #\"set term pdfcairo enhanced size 7,7 font 'Bitstream Charter, 12'\", \n",
      "        #\"set size square\",\n",
      "        \"unset key\", \"set cbrange [0:6]\", \"unset colorbox\",\n",
      "        #\"set cblabel '{/Symbol l}'\",\n",
      "        \"set xtics format ''\", \"set tics front\",\n",
      "        \"set multiplot\")\n",
      "\n",
      "pars = [ { 'at': '00310', 'dt': '02000', 'id': 'dy4', 'd': 0.2 },\n",
      "         { 'at': '00610', 'dt': '03900', 'id': 'dy2', 'd': 0.39 },\n",
      "         { 'at': '01010', 'dt': '06500', 'id': 'dy0', 'd': 0.65 } ]\n",
      "\n",
      "for i in range(3):\n",
      "    p = pars[i]\n",
      "    g2 = gp.Gnuplot()\n",
      "    g2( \"set xrange [-{0}:{0}] ; set yrange [-{0}:{0}]\".format(B_m.L/3),\n",
      "        \"set table\", \"set contour\", \"set cntrparam levels discrete 0, 0.5, 1, 2\", \n",
      "        \"set view map\", \"unset surface\",\n",
      "        \"set output 'data/gpcntr{0}.tab'\".format(p['id']), #\"set zrange [-1:6]\", \n",
      "        \"splot 'data/{2}.catastrophes.init.conan' i 0 matrix u ($1*{0}-{1}):($2*{0}-{1}):($3*{3})\".format(B_m.res,B_m.L/2,p['id'],p['d']),\n",
      "        \"unset table\")\n",
      "    g2.terminate()\n",
      "    \n",
      "    if i == 2:\n",
      "        g(\"set xtics format '%g'\",\n",
      "          \"set cblabel '{/Symbol l} D_+'\",\n",
      "          \"set colorbox horizontal user origin {0},{1}-{3} size {2}, {3}\".format(m.left(0) + m.ew*0.05, m.bottom(2) - m.eh/10, m.ew*0.9, m.eh/20))\n",
      "\n",
      "        \n",
      "    g(  m.subplot(0, i),\n",
      "        \"set ytics format '%g'\",\n",
      "        \"set palette defined ( 0 '#FFFFFF', 1 '#edf8b1', 2 '#7fcdbb', 3 '#2c7fb8' )\",\n",
      "        \"unset log cb\", \"set cbrange [0:2.5]\",\n",
      "        \"plot 'data/{2}.catastrophes.init.conan' i 0 matrix u ($1*{0}-{1}):($2*{0}-{1}):($3*{3}) w image, \\\\\".format(B_m.res,B_m.L/2, p['id'],p['d']),\n",
      "        \"     'data/gpcntr{0}.tab' w l lc rgb 'black', \\\\\".format(p['id']),\n",
      "        \"     'data/{2}.points.{3}.conan' i 1 u ($1*{0}-{1}):($2*{0}-{1}) w p pt 7 ps 0.5 lc rgb 'black', \\\\\".format(B_m.res,B_m.L/2, p['id'], p['dt']),\n",
      "        \"     'data/{2}.a3.alpha.{3}.conan' u ($1*{0}-{1}):($2*{0}-{1}) t'A_3-lines' w l lc rgb 'black' lw 6, \\\\\".format(B_m.res,B_m.L/2, p['id'], p['dt']),\n",
      "        \"     'data/{2}.a3.alpha.{3}.conan' u ($1*{0}-{1}):($2*{0}-{1}) t'A_3-lines' w l lc rgb '#aa0000' lw 3, \\\\\".format(B_m.res,B_m.L/2, p['id'], p['dt']),\n",
      "        #\"     'dy2.a3.beta.03900.conan' u ($1*{0}-{1}):($2*{0}-{1}) t'A_3-lines' w l lc rgb '#0000cc' lw 2, \\\\\".format(B_m.res,B_m.L/2),\n",
      "        \"     'data/{2}.points.{3}.conan' i 1 u ($1*{0}-{1}):($2*{0}-{1}) w p pt 7 ps 0.3 lc rgb '#ff2222', \\\\\".format(B_m.res,B_m.L/2, p['id'], p['dt']),\n",
      "        \"     'data/{2}.points.{3}.conan' i 0 u ($1*{0}-{1}):($2*{0}-{1}) w p pt 9 ps 0.6 lc rgb 'black'\".format(B_m.res,B_m.L/2, p['id'], p['dt']))\n",
      "    \n",
      "    if i == 2:\n",
      "        g(\"set cblabel '{/Symbol d} + 1'\",\n",
      "          \"set colorbox horizontal user origin {0},{1}-{3} size {2}, {3}\".format(m.left(1) + m.ew*0.05, m.bottom(2) - m.eh/10, m.ew*0.9, m.eh/20))\n",
      "    \n",
      "    g(  m.subplot(1, i),\n",
      "        \"set ytics  format ''\",\n",
      "        \"set cbrange [0.02:100]\", \"set log cb\",\n",
      "        \"rcol(x) = 0.237 - 2.13*x + 26.92*x**2 - 65.5*x**3 + 63.5*x**4 - 22.36*x**5\",\n",
      "\t    \"gcol(x) = ((0.572 + 1.524*x - 1.811*x**2)/(1 - 0.291*x + 0.1574*x**2))**2\",\n",
      "\t    \"bcol(x) = 1/(1.579 - 4.03*x + 12.92*x**2 - 31.4*x**3 + 48.6*x**4 - 23.36*x**5)\",\n",
      "\t    \"set palette model RGB functions rcol(gray), gcol(gray), bcol(gray)\",\n",
      "        \n",
      "        \"plot 'data/rho.{2}.nerve.conan' matrix u ($1*{0}-{1}):($2*{0}-{1}):($3*4) t'' w image, \\\\\".format(B_m.res/2,B_m.L/2, p['at']),\n",
      "        \"     'data/{2}.points.{3}.conan' i 1 u ($3*{0}-{1}):($4*{0}-{1}) w p pt 7 ps 0.4 lc rgb 'black', \\\\\".format(B_m.res,B_m.L/2, p['id'], p['dt']),\n",
      "        \"     'data/{2}.a3.alpha.{3}.conan' u ($3*{0}-{1}):($4*{0}-{1}) t'A_3-lines' w l lc rgb 'black' lw 5, \\\\\".format(B_m.res,B_m.L/2, p['id'], p['dt']),\n",
      "        \"     'data/{2}.a3.alpha.{3}.conan' u ($3*{0}-{1}):($4*{0}-{1}) t'A_3-lines' w l lc rgb '#aa0000' lw 2.5, \\\\\".format(B_m.res,B_m.L/2, p['id'], p['dt']),\n",
      "        \"     'data/{2}.points.{3}.conan' i 1 u ($3*{0}-{1}):($4*{0}-{1}) w p pt 7 ps 0.2 lc rgb '#ff2222', \\\\\".format(B_m.res,B_m.L/2, p['id'], p['dt']),\n",
      "        \"     'data/{2}.points.{3}.conan' i 0 u ($3*{0}-{1}):($4*{0}-{1}) w p pt 9 ps 0.6 lc rgb 'black'\".format(B_m.res,B_m.L/2, p['id'], p['dt']))\n",
      "        #\"     'dy2.points.03900.conan' i 2 u ($1*{0}-{1}):($2*{0}-{1}) w p pt 7 ps 1 lc rgb '#0000cc'\".format(B_m.res,B_m.L/2))\n",
      "\n",
      "        \n",
      "g.terminate()"
     ],
     "language": "python",
     "metadata": {},
     "outputs": [],
     "prompt_number": 33
    },
    {
     "cell_type": "code",
     "collapsed": false,
     "input": [],
     "language": "python",
     "metadata": {},
     "outputs": []
    }
   ],
   "metadata": {}
  }
 ]
}