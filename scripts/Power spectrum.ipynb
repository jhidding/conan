{
 "metadata": {
  "name": ""
 },
 "nbformat": 3,
 "nbformat_minor": 0,
 "worksheets": [
  {
   "cells": [
    {
     "cell_type": "code",
     "collapsed": false,
     "input": [
      "from math import exp, pi\n",
      "import numpy as np\n",
      "from numpy import fft, random\n",
      "from scipy.integrate import quad\n",
      "import cft\n",
      "import gnuplot as gp\n",
      "\n",
      "pylab.rcParams['figure.figsize'] = (10.0, 8.0)\n",
      "\n",
      "def EH(k):\n",
      "    Omega0 = 0.32 ; h = 0.69 ; Theta = 2.7255/2.7\n",
      "    ns = 0.96 ; A = 1122670 ; e = exp(1)\n",
      "    \n",
      "    q = k * Theta**2/(Omega0*h)\n",
      "    L0 = np.log(2*e + 1.8*q)\n",
      "    C0 = 14.2 + 731.0/(1 + 62.5*q)\n",
      "    T0 = L0 / (L0 + C0 * q**2)\n",
      "    \n",
      "    return A * k**ns * T0**2\n",
      "\n",
      "class PowerSpectrum(cft.Filter):\n",
      "    def __init__(self, f):\n",
      "        k = cft.Power_law(1)\n",
      "        cft.Filter.__init__(self, lambda K: f(k(K)))\n",
      "\n",
      "class FromAbs(cft.Filter):\n",
      "    def __init__(self, f):\n",
      "        k = cft.Power_law(1)\n",
      "        cft.Filter.__init__(self, lambda K: f(k(K)))\n",
      "        \n",
      "P = PowerSpectrum(EH)\n",
      "\n",
      "def Gaussian_window(R):\n",
      "    def f(k):\n",
      "        return np.exp(-k**2 * R**2 / 2)\n",
      "    return f\n",
      "\n",
      "def Tophat_window(R):\n",
      "    def f(k):\n",
      "        y = k*R\n",
      "        return 3*cft._K_pow(y, -3) * (np.sin(y) - y*np.cos(y))\n",
      "    return f\n",
      "\n",
      "class PS_norm:\n",
      "    def __init__(self, P, W, dim = 3):\n",
      "        self.P = P\n",
      "        self.W = W\n",
      "        self.d = dim\n",
      "        \n",
      "    def integrant(self):\n",
      "        def f(k):\n",
      "            return self.P(k) * self.W(k)**2 * k**(self.d-1) * 1./(2*pi**(self.d-1))\n",
      "        \n",
      "        return f\n",
      "    \n",
      "    def __call__(self, k_min, k_max):\n",
      "        f = self.integrant()\n",
      "        n, err = quad(f, k_min, k_max)\n",
      "        return np.sqrt(n)\n",
      "        "
     ],
     "language": "python",
     "metadata": {},
     "outputs": [],
     "prompt_number": 150
    },
    {
     "cell_type": "code",
     "collapsed": false,
     "input": [
      "N = 64 ; dim = 3\n",
      "B = cft.Box(dim, N, 20.0)\n",
      "data = cft.garfield(B, P)\n",
      "\n",
      "data_f = fft.fftn(data)\n",
      "power = (data_f * data_f.conj()).real\n",
      "\n",
      "idx = np.argsort(B.k.flat)\n",
      "ps = (power/B.size).flat[idx].reshape([N, N**(dim-1)]).mean(axis=1)\n",
      "km = B.k.flat[idx].reshape([N, N**(dim-1)]).mean(axis=1)\n",
      "\n",
      "S = cft.Scale(B, 8.0 / sqrt(5))\n",
      "data_s = fft.ifftn(data_f * S(B.K))\n",
      "\n",
      "def W(K):\n",
      "    y = (K**2).sum(axis=0)**(1./2)*8\n",
      "    return 3*cft._K_pow(y,-3) * (np.sin(y) - y*np.cos(y))\n",
      "\n",
      "th0 = np.sqrt(P(B.K).mean())\n",
      "th1 = np.sqrt((P * S**2)(B.K).mean())\n",
      "th2 = np.sqrt(PS_norm(EH)(8.0, 0, B.k_max))\n",
      "th3 = np.sqrt((P * cft.Filter(W)**2)(B.K).mean())\n",
      "\n",
      "print(th1/data_s.std(), th0/data.std(), th1/th3, th2, th3)\n",
      "#import gnuplot as gp\n",
      "#np.savetxt(\"r.dat\", np.c_[km, ps, EH(km)])\n",
      "#gp.plot(\"set log xy\", \"plot 'r.dat' u 1:2 w l, '' u 1:3 w l\")"
     ],
     "language": "python",
     "metadata": {},
     "outputs": [
      {
       "ename": "TypeError",
       "evalue": "__init__() missing 1 required positional argument: 'W'",
       "output_type": "pyerr",
       "traceback": [
        "\u001b[0;31m---------------------------------------------------------------------------\u001b[0m\n\u001b[0;31mTypeError\u001b[0m                                 Traceback (most recent call last)",
        "\u001b[0;32m<ipython-input-115-9329d2faaf99>\u001b[0m in \u001b[0;36m<module>\u001b[0;34m()\u001b[0m\n\u001b[1;32m     19\u001b[0m \u001b[0mth0\u001b[0m \u001b[0;34m=\u001b[0m \u001b[0mnp\u001b[0m\u001b[0;34m.\u001b[0m\u001b[0msqrt\u001b[0m\u001b[0;34m(\u001b[0m\u001b[0mP\u001b[0m\u001b[0;34m(\u001b[0m\u001b[0mB\u001b[0m\u001b[0;34m.\u001b[0m\u001b[0mK\u001b[0m\u001b[0;34m)\u001b[0m\u001b[0;34m.\u001b[0m\u001b[0mmean\u001b[0m\u001b[0;34m(\u001b[0m\u001b[0;34m)\u001b[0m\u001b[0;34m)\u001b[0m\u001b[0;34m\u001b[0m\u001b[0m\n\u001b[1;32m     20\u001b[0m \u001b[0mth1\u001b[0m \u001b[0;34m=\u001b[0m \u001b[0mnp\u001b[0m\u001b[0;34m.\u001b[0m\u001b[0msqrt\u001b[0m\u001b[0;34m(\u001b[0m\u001b[0;34m(\u001b[0m\u001b[0mP\u001b[0m \u001b[0;34m*\u001b[0m \u001b[0mS\u001b[0m\u001b[0;34m**\u001b[0m\u001b[0;36m2\u001b[0m\u001b[0;34m)\u001b[0m\u001b[0;34m(\u001b[0m\u001b[0mB\u001b[0m\u001b[0;34m.\u001b[0m\u001b[0mK\u001b[0m\u001b[0;34m)\u001b[0m\u001b[0;34m.\u001b[0m\u001b[0mmean\u001b[0m\u001b[0;34m(\u001b[0m\u001b[0;34m)\u001b[0m\u001b[0;34m)\u001b[0m\u001b[0;34m\u001b[0m\u001b[0m\n\u001b[0;32m---> 21\u001b[0;31m \u001b[0mth2\u001b[0m \u001b[0;34m=\u001b[0m \u001b[0mnp\u001b[0m\u001b[0;34m.\u001b[0m\u001b[0msqrt\u001b[0m\u001b[0;34m(\u001b[0m\u001b[0mPS_norm\u001b[0m\u001b[0;34m(\u001b[0m\u001b[0mEH\u001b[0m\u001b[0;34m)\u001b[0m\u001b[0;34m(\u001b[0m\u001b[0;36m8.0\u001b[0m\u001b[0;34m,\u001b[0m \u001b[0;36m0\u001b[0m\u001b[0;34m,\u001b[0m \u001b[0mB\u001b[0m\u001b[0;34m.\u001b[0m\u001b[0mk_max\u001b[0m\u001b[0;34m)\u001b[0m\u001b[0;34m)\u001b[0m\u001b[0;34m\u001b[0m\u001b[0m\n\u001b[0m\u001b[1;32m     22\u001b[0m \u001b[0mth3\u001b[0m \u001b[0;34m=\u001b[0m \u001b[0mnp\u001b[0m\u001b[0;34m.\u001b[0m\u001b[0msqrt\u001b[0m\u001b[0;34m(\u001b[0m\u001b[0;34m(\u001b[0m\u001b[0mP\u001b[0m \u001b[0;34m*\u001b[0m \u001b[0mcft\u001b[0m\u001b[0;34m.\u001b[0m\u001b[0mFilter\u001b[0m\u001b[0;34m(\u001b[0m\u001b[0mW\u001b[0m\u001b[0;34m)\u001b[0m\u001b[0;34m**\u001b[0m\u001b[0;36m2\u001b[0m\u001b[0;34m)\u001b[0m\u001b[0;34m(\u001b[0m\u001b[0mB\u001b[0m\u001b[0;34m.\u001b[0m\u001b[0mK\u001b[0m\u001b[0;34m)\u001b[0m\u001b[0;34m.\u001b[0m\u001b[0mmean\u001b[0m\u001b[0;34m(\u001b[0m\u001b[0;34m)\u001b[0m\u001b[0;34m)\u001b[0m\u001b[0;34m\u001b[0m\u001b[0m\n\u001b[1;32m     23\u001b[0m \u001b[0;34m\u001b[0m\u001b[0m\n",
        "\u001b[0;31mTypeError\u001b[0m: __init__() missing 1 required positional argument: 'W'"
       ]
      }
     ],
     "prompt_number": 115
    },
    {
     "cell_type": "code",
     "collapsed": false,
     "input": [
      "#P = PowerSpectrum(EH)\n",
      "#P = cft.Power_law(EH)\n",
      "\n",
      "result = []\n",
      "for L in linspace(20, 500.0, 40):\n",
      "    dim = 3\n",
      "    W = Gaussian_window(8.0/sqrt(5))\n",
      "    #EH = lambda k: k**1\n",
      "    #W = Tophat_window(8.0)\n",
      "    m = 1\n",
      "    B1 = cft.Box(dim, 32*m, L) \n",
      "    #B2 = cft.Box(dim, 48*m, L) ; B3 = cft.Box(dim, 64*m, L)\n",
      "    \n",
      "    n1 = PS_norm(EH, W, dim)(B1.k_min, B1.k_max)\n",
      "    #n2 = PS_norm(EH, W)(B2.k_min, B2.k_max)\n",
      "    #n3 = PS_norm(EH, W)(B3.k_min, B3.k_max)\n",
      "    #n1 = n2 = n3 = 1\n",
      "    result.append([L, \n",
      "        np.sqrt((EH(B1.k) * W(B1.k)).mean()) / B1.res**(dim/2),\n",
      "        n1])\n",
      "    #np.sqrt((EH(B2.k) * W(B2.k)).mean()) / n2 / B2.res**(dim/2),\n",
      "    #np.sqrt((EH(B3.k) * W(B3.k)).mean()) / n3 / B3.res**(dim/2)])\n",
      "    \n",
      "np.savetxt('r0.dat', np.array(result))\n",
      "\n",
      "gp.plot(\"plot 'r0.dat' u 1:2 w l, '' u 1:3 w l\")"
     ],
     "language": "python",
     "metadata": {},
     "outputs": [
      {
       "metadata": {},
       "output_type": "display_data",
       "png": "[encoded data removed]",
       "text": [
        "<IPython.core.display.Image at 0x7fde3611fdd8>"
       ]
      }
     ],
     "prompt_number": 158
    },
    {
     "cell_type": "code",
     "collapsed": false,
     "input": [
      "B = cft.Box(3, 128, 200.0)\n",
      "QN = np.indices(B.shape) \n",
      "def testsigma(N, L):\n",
      "    B = cft.Box(3, N, L)\n",
      "    data = cft.garfield(B, P)\n",
      "\n",
      "    Q = QN*B.res\n",
      "    q = np.sqrt(np.sum(((Q+B.L/2)%B.L-B.L/2)**2, axis=0))\n",
      "    disc = np.where(q < 8.0, 1, 0)\n",
      "    disc_f = fft.fftn(disc) * cft.Scale(B, B.res)(B.K)\n",
      "    disc_f /= disc_f[0,0]\n",
      "\n",
      "    f = fft.ifftn(fft.fftn(data) * disc_f).real\n",
      "    print('.', end='', file=sys.stderr, flush=True)\n",
      "    return f.std()"
     ],
     "language": "python",
     "metadata": {},
     "outputs": [],
     "prompt_number": 6
    },
    {
     "cell_type": "code",
     "collapsed": false,
     "input": [
      "result2 = np.array([[L, testsigma(128, L)] for L in np.linspace(100.0, 1000.0, 20)])"
     ],
     "language": "python",
     "metadata": {},
     "outputs": [
      {
       "output_type": "stream",
       "stream": "stderr",
       "text": [
        "."
       ]
      },
      {
       "output_type": "stream",
       "stream": "stderr",
       "text": [
        "."
       ]
      },
      {
       "output_type": "stream",
       "stream": "stderr",
       "text": [
        "."
       ]
      },
      {
       "output_type": "stream",
       "stream": "stderr",
       "text": [
        "."
       ]
      },
      {
       "output_type": "stream",
       "stream": "stderr",
       "text": [
        "."
       ]
      },
      {
       "output_type": "stream",
       "stream": "stderr",
       "text": [
        "."
       ]
      },
      {
       "output_type": "stream",
       "stream": "stderr",
       "text": [
        "."
       ]
      },
      {
       "output_type": "stream",
       "stream": "stderr",
       "text": [
        "."
       ]
      },
      {
       "output_type": "stream",
       "stream": "stderr",
       "text": [
        "."
       ]
      },
      {
       "output_type": "stream",
       "stream": "stderr",
       "text": [
        "."
       ]
      },
      {
       "output_type": "stream",
       "stream": "stderr",
       "text": [
        "."
       ]
      },
      {
       "output_type": "stream",
       "stream": "stderr",
       "text": [
        "."
       ]
      },
      {
       "output_type": "stream",
       "stream": "stderr",
       "text": [
        "."
       ]
      },
      {
       "output_type": "stream",
       "stream": "stderr",
       "text": [
        "."
       ]
      },
      {
       "output_type": "stream",
       "stream": "stderr",
       "text": [
        "."
       ]
      },
      {
       "output_type": "stream",
       "stream": "stderr",
       "text": [
        "."
       ]
      },
      {
       "output_type": "stream",
       "stream": "stderr",
       "text": [
        "."
       ]
      },
      {
       "output_type": "stream",
       "stream": "stderr",
       "text": [
        "."
       ]
      },
      {
       "output_type": "stream",
       "stream": "stderr",
       "text": [
        "."
       ]
      },
      {
       "output_type": "stream",
       "stream": "stderr",
       "text": [
        "."
       ]
      }
     ],
     "prompt_number": 7
    },
    {
     "cell_type": "code",
     "collapsed": false,
     "input": [
      "plot(result2[:,0], result2[:,1]*result2[:,0]**2) #/(result2[4:,0]/128)**(1./2))"
     ],
     "language": "python",
     "metadata": {},
     "outputs": [
      {
       "metadata": {},
       "output_type": "pyout",
       "prompt_number": 11,
       "text": [
        "[<matplotlib.lines.Line2D at 0x7fb5b0588208>]"
       ]
      },
      {
       "metadata": {},
       "output_type": "display_data",
       "png": "[encoded data removed]",
       "text": [
        "<matplotlib.figure.Figure at 0x7fb5b05b56a0>"
       ]
      }
     ],
     "prompt_number": 11
    },
    {
     "cell_type": "code",
     "collapsed": false,
     "input": [
      "result2"
     ],
     "language": "python",
     "metadata": {},
     "outputs": [
      {
       "metadata": {},
       "output_type": "pyout",
       "prompt_number": 126,
       "text": [
        "array([[  100.        ,   810.25081805],\n",
        "       [  147.36842105,   303.14808907],\n",
        "       [  194.73684211,   148.67701015],\n",
        "       [  242.10526316,    79.0373393 ],\n",
        "       [  289.47368421,    49.40891901],\n",
        "       [  336.84210526,    35.0694973 ],\n",
        "       [  384.21052632,    23.97301726],\n",
        "       [  431.57894737,    17.34444925],\n",
        "       [  478.94736842,    10.52015141],\n",
        "       [  526.31578947,     8.60975005],\n",
        "       [  573.68421053,     8.35487377],\n",
        "       [  621.05263158,     5.99491693],\n",
        "       [  668.42105263,     5.89183715],\n",
        "       [  715.78947368,     5.77800609],\n",
        "       [  763.15789474,     2.28713586],\n",
        "       [  810.52631579,     2.24249422],\n",
        "       [  857.89473684,     2.20595142],\n",
        "       [  905.26315789,     2.16270326],\n",
        "       [  952.63157895,     2.13257429],\n",
        "       [ 1000.        ,     2.10500299]])"
       ]
      }
     ],
     "prompt_number": 126
    },
    {
     "cell_type": "code",
     "collapsed": false,
     "input": [
      "def testnorm(N, L):\n",
      "    k_min = 2*pi/L ; k_max = N*pi/L\n",
      "    return sqrt(PS_norm(EH)(8, k_min, k_max))\n",
      "\n",
      "result3 = np.array([[L, testnorm(128, L)] for L in np.linspace(100.0, 1000.0, 20)])"
     ],
     "language": "python",
     "metadata": {},
     "outputs": [],
     "prompt_number": 115
    },
    {
     "cell_type": "code",
     "collapsed": false,
     "input": [
      "plot(result3[:,0], result3[:,1])"
     ],
     "language": "python",
     "metadata": {},
     "outputs": [
      {
       "metadata": {},
       "output_type": "pyout",
       "prompt_number": 116,
       "text": [
        "[<matplotlib.lines.Line2D at 0x7fe1b3f51128>]"
       ]
      },
      {
       "metadata": {},
       "output_type": "display_data",
       "png": "[encoded data removed]",
       "text": [
        "<matplotlib.figure.Figure at 0x7fe1b80e5320>"
       ]
      }
     ],
     "prompt_number": 116
    },
    {
     "cell_type": "code",
     "collapsed": false,
     "input": [],
     "language": "python",
     "metadata": {},
     "outputs": []
    }
   ],
   "metadata": {}
  }
 ]
}