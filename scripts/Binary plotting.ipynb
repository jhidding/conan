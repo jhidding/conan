{
 "metadata": {
  "name": "Binary plotting"
 },
 "nbformat": 3,
 "nbformat_minor": 0,
 "worksheets": [
  {
   "cells": [
    {
     "cell_type": "code",
     "collapsed": false,
     "input": [
      "import gnuplot as gp\n",
      "import numpy as np\n",
      "from numpy import random, fft\n",
      "\n",
      "from IPython.display import display, Image"
     ],
     "language": "python",
     "metadata": {},
     "outputs": [],
     "prompt_number": 1
    },
    {
     "cell_type": "code",
     "collapsed": false,
     "input": [
      "import cft\n",
      "\n",
      "N = 16\n",
      "L = 22\n",
      "B = cft.Box(2, N, L)\n",
      "\n",
      "def garfield(B, wn, P):\n",
      "    f = fft.ifftn(fft.fftn(wn) * np.sqrt(P(B.K))).real\n",
      "    f /= f.std()\n",
      "    return f\n",
      "\n",
      "P = [cft.Power_law( 0) * cft.Scale(B, 0.1),\n",
      "     cft.Power_law(-1) * cft.Scale(B, 0.1),\n",
      "     cft.Power_law(-2) * cft.Scale(B, 0.1)]\n",
      "\n",
      "wn = random.normal(0, 1, [N, N])\n",
      "\n",
      "data = [garfield(B, wn, p) for p in P]\n",
      "phi = [fft.ifftn(fft.fftn(d) * cft.Potential()(B.K)).real for d in data]\n",
      "\n",
      "def displacement(B, phi, t = 1.0):\n",
      "    phi_f = fft.fftn(phi)s\n",
      "    vx = fft.ifftn(phi_f * cft.D(1)(B.K)).real\n",
      "    vy = fft.ifftn(phi_f * cft.D(2)(B.K)).real\n",
      "    Q = np.indices(B.shape) * (L/N)\n",
      "    X = Q + np.array([vx, vy])\n",
      "    return X\n",
      "\n",
      "g = gp.Gnuplot() ; g(\"set term pngcairo size 900, 600\") ; g(\"set output 'tmp.png'\")\n",
      "g(\"set multiplot layout 2,3\", \"unset colorbox\")\n",
      "for d in phi:\n",
      "    g(gp.plot_data(gp.matrix(d, \"with image\".format(L/N, L/2))))\n",
      "for d in [displacement(B, p).transpose([1,2,0]).reshape([N**2, 2]) for p in phi]:\n",
      "    g(gp.plot_data(gp.record(d, \"with dots lc 0\")))\n",
      "g(\"unset multiplot\")\n",
      "g.terminate()"
     ],
     "language": "python",
     "metadata": {},
     "outputs": [
      {
       "output_type": "stream",
       "stream": "stdout",
       "text": [
        "plot '-' binary matrix with image\n",
        "plot '-' binary matrix with image\n",
        "plot '-' binary matrix with image\n",
        "plot '-' binary record=256 format='%float64%float64' with dots lc 0\n",
        "plot '-' binary record=256 format='%float64%float64' with dots lc 0\n",
        "plot '-' binary record=256 format='%float64%float64' with dots lc 0\n"
       ]
      }
     ],
     "prompt_number": 4
    },
    {
     "cell_type": "code",
     "collapsed": false,
     "input": [
      "display(Image(filename='tmp.png'))"
     ],
     "language": "python",
     "metadata": {},
     "outputs": [
      {
       "output_type": "display_data",
       "png": "[encoded data removed]",
       "text": [
        "<IPython.core.display.Image at 0x7f69940c75d0>"
       ]
      }
     ],
     "prompt_number": 3
    },
    {
     "cell_type": "code",
     "collapsed": false,
     "input": [],
     "language": "python",
     "metadata": {},
     "outputs": []
    }
   ],
   "metadata": {}
  }
 ]
}